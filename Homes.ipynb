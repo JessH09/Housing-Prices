{
 "cells": [
  {
   "cell_type": "code",
   "execution_count": null,
   "id": "47aa0a6c",
   "metadata": {},
   "outputs": [],
   "source": [
    "#imports\n",
    "\n",
    "import os\n",
    "import pandas as pd\n",
    "from pathlib import Path"
   ]
  },
  {
   "cell_type": "code",
   "execution_count": null,
   "id": "c4f1d40e",
   "metadata": {},
   "outputs": [],
   "source": [
    "#designate the csv file data path\n",
    "data_load = Path ('Resources/Housing.csv')\n",
    "\n",
    "# uniform housing\n",
    "housing = pd.read_csv(data_load,encoding=\"utf-8\")\n",
    "\n",
    "# Display the first few rows of the original DataFrame\n",
    "print(\"Original DataFrame:\")\n",
    "(housing.head())"
   ]
  },
  {
   "cell_type": "code",
   "execution_count": null,
   "id": "a1843953",
   "metadata": {},
   "outputs": [],
   "source": [
    "# List of columns to drop (replace with actual column names)\n",
    "columns_to_drop = ['sqft_living', 'grade', 'sqft_above', 'sqft_basement', 'sqft_living15', 'sqft_lot15']\n",
    "\n",
    "# Drop the specified columns and create a new DataFrame\n",
    "housing = housing.drop(columns=columns_to_drop)\n",
    "\n",
    "# Check for null and NaN values after dropping columns\n",
    "print(\"\\nNull and NaN values after dropping columns:\")\n",
    "print(housing.isnull().sum())\n",
    "\n"
   ]
  },
  {
   "cell_type": "code",
   "execution_count": null,
   "id": "cebec363-ef04-47a9-8441-b43992079751",
   "metadata": {},
   "outputs": [],
   "source": [
    "# Check for duplicates in the DataFrame\n",
    "duplicates = housing.duplicated()\n",
    "\n",
    "# Count the number of duplicates\n",
    "num_duplicates = duplicates.sum()\n",
    "\n",
    "if num_duplicates > 0:\n",
    "    print(f\"Number of duplicate rows: {num_duplicates}\")\n",
    "    # Display duplicate rows\n",
    "    duplicate_rows = housing[duplicates]\n",
    "    print(\"\\nDuplicate rows:\")\n",
    "    print(duplicate_rows)\n",
    "    \n",
    "    # Remove duplicates and overwrite the DataFrame\n",
    "    housing = housing.drop_duplicates()\n",
    "    print(\"\\nDuplicates removed.\")\n",
    "else:\n",
    "    print(\"No duplicates found.\")\n"
   ]
  },
  {
   "cell_type": "code",
   "execution_count": null,
   "id": "4a056ba2",
   "metadata": {},
   "outputs": [],
   "source": [
    "housing.rename(columns={\n",
    "    'id': 'property_id',\n",
    "    'price': 'sale_price',\n",
    "    'bedrooms': 'num_bedrooms',\n",
    "    'bathrooms': 'num_bathrooms',\n",
    "    'sqft_lot': 'lot_size',\n",
    "    'floors': 'num_floors',\n",
    "    'waterfront': 'is_waterfront',\n",
    "    'view': 'view_rating',\n",
    "    'condition': 'condition_rating',\n",
    "    'yr_built': 'year_built',\n",
    "    'yr_renovated': 'year_renovated',\n",
    "    'zipcode': 'zip_code',\n",
    "    'lat': 'latitude',\n",
    "    'long': 'longitude'\n",
    "}, inplace=True)\n"
   ]
  },
  {
   "cell_type": "code",
   "execution_count": null,
   "id": "dbc3c723-6edd-44d1-9361-6a7b6dc7f965",
   "metadata": {},
   "outputs": [],
   "source": [
    "# Function to convert date format\n",
    "def convert_date(date_str):\n",
    "    # Remove the 'T000000' part and convert to datetime\n",
    "    date_str = date_str.split('T')[0]\n",
    "    # Convert to datetime\n",
    "    date = pd.to_datetime(date_str, format='%Y%m%d')\n",
    "    # Extract month as a number (zero-padded)\n",
    "    month = date.strftime('%m')\n",
    "    # Extract day and year\n",
    "    day = date.strftime('%d')\n",
    "    year = date.strftime('%Y')\n",
    "    # Return formatted date\n",
    "    return f\"{month}/{day}/{year}\"\n",
    "\n",
    "# Assuming the date column in your DataFrame is named 'date'\n",
    "if 'date' in housing.columns:\n",
    "    # Apply the function to the date column\n",
    "    housing['dates'] = housing['date'].apply(convert_date)\n",
    "    # Drop the original date column if desired\n",
    "    housing = housing.drop(columns=['date'])\n",
    "else:\n",
    "    print(\"date column not found in the DataFrame.\")\n",
    "\n",
    "# Display the first few rows of the modified DataFrame\n",
    "print(\"\\nModified DataFrame:\")\n",
    "print(housing.head())\n"
   ]
  },
  {
   "cell_type": "code",
   "execution_count": null,
   "id": "b6c5ea4d",
   "metadata": {},
   "outputs": [],
   "source": [
    "housing.to_csv('Resources/ModifiedHomes.csv', index=False)\n",
    "print(\"New DataFrame saved to 'Resources/ModifiedHomes.csv'\")\n"
   ]
  },
  {
   "cell_type": "code",
   "execution_count": null,
   "id": "44698d04",
   "metadata": {},
   "outputs": [],
   "source": [
    "pd.read_csv(data_load,encoding=\"utf-8\")\n",
    "housing.head(10)"
   ]
  },
  {
   "cell_type": "code",
   "execution_count": null,
   "id": "c11a8f81",
   "metadata": {},
   "outputs": [],
   "source": [
    "print(housing.dtypes)"
   ]
  },
  {
   "cell_type": "code",
   "execution_count": null,
   "id": "12dc0e11",
   "metadata": {},
   "outputs": [],
   "source": [
    "housing.columns"
   ]
  },
  {
   "cell_type": "code",
   "execution_count": null,
   "id": "9154c7ff",
   "metadata": {},
   "outputs": [],
   "source": [
    "# Convert 'price' column to string type and remove dollar sign and commas\n",
    "housing[' price '] = housing[' price '].astype(str)\n",
    "\n",
    "#  Remove dollar sign and commas, and strip extra spaces\n",
    "housing[' price '] = housing[' price '].str.replace('$', '').str.replace(',', '').str.strip()\n",
    "\n",
    "# Replace commas as decimal points (if needed)\n",
    "housing[' price '] = housing[' price '].str.replace(',', '.')\n",
    "\n",
    "#  Convert to numeric\n",
    "housing[' price '] = pd.to_numeric(housing[' price '], errors='coerce')\n",
    "\n",
    "# Check for NaN values after conversion\n",
    "print(housing[' price '].isnull().sum())\n",
    "\n",
    "#print df to check conversion\n",
    "housing"
   ]
  },
  {
   "cell_type": "code",
   "execution_count": null,
   "id": "12a0190f",
   "metadata": {},
   "outputs": [],
   "source": [
    "#check datatypes to make sure price was converted\n",
    "housing.dtypes"
   ]
  },
  {
   "cell_type": "code",
   "execution_count": null,
   "id": "a4bcf73e",
   "metadata": {},
   "outputs": [],
   "source": [
    "housing['dates'] = pd.to_datetime(housing['dates'], format='%m/%d/%Y')\n",
    "housing.sort_values('dates', inplace=True)\n",
    "housing.set_index('dates', inplace=True)\n",
    "monthly_price_change = housing.groupby(housing.index.year)[' price '].pct_change()\n",
    "housing['monthly_price_change'] = monthly_price_change\n",
    "housing\n"
   ]
  },
  {
   "cell_type": "code",
   "execution_count": null,
   "id": "f02391f0",
   "metadata": {},
   "outputs": [],
   "source": [
    "nan_values = housing[housing['monthly_price_change'].isna()]\n",
    "housing['monthly_price_change'].fillna(0, inplace= True)\n",
    "housing.head()"
   ]
  },
  {
   "cell_type": "code",
   "execution_count": null,
   "id": "fd62b20c",
   "metadata": {},
   "outputs": [],
   "source": [
    "def categorize_renovation(year):\n",
    "    if year == 0:\n",
    "        return 'never_renovated'\n",
    "    elif year > 1900:\n",
    "        return 'renovated'\n",
    "    else:\n",
    "        return 'renovated'\n",
    "\n",
    "# Create a new column 'renovation_category' based on 'yr_renovated' values\n",
    "housing['renovation_category'] = housing['year_renovated'].apply(categorize_renovation)\n",
    "\n",
    "housing"
   ]
  },
  {
   "cell_type": "code",
   "execution_count": null,
   "id": "53632f9a",
   "metadata": {},
   "outputs": [],
   "source": [
    "dummies = pd.get_dummies(housing['renovation_category'], drop_first=True, dtype=int)\n",
    "\n",
    "housing = pd.concat([housing, dummies], axis=1)\n",
    "\n",
    "housing"
   ]
  },
  {
   "cell_type": "code",
   "execution_count": null,
   "id": "c6b99972",
   "metadata": {},
   "outputs": [],
   "source": [
    "housing.reset_index(inplace=True)"
   ]
  },
  {
   "cell_type": "code",
   "execution_count": null,
   "id": "e600e440",
   "metadata": {},
   "outputs": [],
   "source": [
    "housing.dtypes"
   ]
  },
  {
   "cell_type": "code",
   "execution_count": null,
   "id": "035a0a1b",
   "metadata": {},
   "outputs": [],
   "source": [
    "#drop identification column\n",
    "house_df = housing.drop(columns= ['property_id', 'year_renovated','renovation_category'] )\n",
    "house_df.head(10)"
   ]
  },
  {
   "cell_type": "code",
   "execution_count": null,
   "id": "7a7ab9b3",
   "metadata": {},
   "outputs": [],
   "source": [
    "def convert_to_string(dt):\n",
    "    return dt.strftime('%Y-%m-%d') if pd.notnull(dt) else ''\n",
    "\n",
    "# Apply the custom function to convert datetime to string\n",
    "house_df['dates'] = house_df['dates'].apply(convert_to_string)\n",
    "\n",
    "# Display the DataFrame with the datetime column converted to object type\n",
    "print(house_df)"
   ]
  },
  {
   "cell_type": "code",
   "execution_count": null,
   "id": "60627b94",
   "metadata": {},
   "outputs": [],
   "source": [
    "house_df.shape"
   ]
  },
  {
   "cell_type": "code",
   "execution_count": null,
   "id": "7d7885f8",
   "metadata": {},
   "outputs": [],
   "source": [
    "house_df.info()"
   ]
  },
  {
   "cell_type": "code",
   "execution_count": null,
   "id": "f3e5fd25",
   "metadata": {},
   "outputs": [],
   "source": [
    "house_df.describe()"
   ]
  },
  {
   "cell_type": "code",
   "execution_count": null,
   "id": "e0c952ac",
   "metadata": {},
   "outputs": [],
   "source": [
    "print(house_df['dates'])\n"
   ]
  },
  {
   "cell_type": "code",
   "execution_count": null,
   "id": "b7fb4f72",
   "metadata": {},
   "outputs": [],
   "source": [
    "house_df['dates'].isnull().sum()\n"
   ]
  },
  {
   "cell_type": "code",
   "execution_count": null,
   "id": "f60300f5",
   "metadata": {},
   "outputs": [],
   "source": [
    "def custom_date_conversion(date_str):\n",
    "    try:\n",
    "        return pd.to_datetime(date_str)\n",
    "    except ValueError:\n",
    "        return pd.NaT\n",
    "\n",
    "# Apply the custom conversion function to the date column\n",
    "house_df['dates'] = house_df['dates'].apply(custom_date_conversion)"
   ]
  },
  {
   "cell_type": "code",
   "execution_count": null,
   "id": "c768cfdf",
   "metadata": {},
   "outputs": [],
   "source": [
    "rows_with_nat = house_df[house_df['dates'].isnull()]\n",
    "print(rows_with_nat)\n"
   ]
  },
  {
   "cell_type": "code",
   "execution_count": null,
   "id": "7ecae3c6",
   "metadata": {},
   "outputs": [],
   "source": [
    "\n",
    "import matplotlib.pyplot as plt\n",
    "import seaborn as sns\n",
    "%matplotlib inline\n",
    "plt.figure(figsize=(12, 6))\n",
    "sns.heatmap(house_df.corr(),\n",
    "            cmap = 'BrBG',\n",
    "            fmt = '.2f',\n",
    "            linewidths = 2,\n",
    "            annot = True)"
   ]
  },
  {
   "cell_type": "code",
   "execution_count": null,
   "id": "961b83cc",
   "metadata": {},
   "outputs": [],
   "source": [
    "plt.scatter(house_df['num_bedrooms'],house_df[' price '])\n"
   ]
  },
  {
   "cell_type": "code",
   "execution_count": null,
   "id": "8d9720c0",
   "metadata": {},
   "outputs": [],
   "source": [
    "plt.scatter(house_df['num_bathrooms'],house_df[' price '])\n"
   ]
  },
  {
   "cell_type": "code",
   "execution_count": null,
   "id": "f36b3cef",
   "metadata": {},
   "outputs": [],
   "source": [
    "plt.scatter(house_df['lot_size'],house_df[' price '])\n"
   ]
  },
  {
   "cell_type": "code",
   "execution_count": null,
   "id": "b9e738c3",
   "metadata": {},
   "outputs": [],
   "source": [
    "plt.scatter(house_df['num_floors'],house_df[' price '])\n"
   ]
  },
  {
   "cell_type": "code",
   "execution_count": null,
   "id": "70e8eb8e",
   "metadata": {},
   "outputs": [],
   "source": [
    "plt.scatter(house_df['is_waterfront'],house_df[' price '])\n"
   ]
  },
  {
   "cell_type": "code",
   "execution_count": null,
   "id": "ffda2f13",
   "metadata": {},
   "outputs": [],
   "source": [
    "plt.scatter(house_df['view_rating'],house_df[' price '])\n"
   ]
  },
  {
   "cell_type": "code",
   "execution_count": null,
   "id": "ea279365",
   "metadata": {},
   "outputs": [],
   "source": [
    "plt.scatter(house_df['condition_rating'],house_df[' price '])\n"
   ]
  },
  {
   "cell_type": "code",
   "execution_count": null,
   "id": "65e5fca4",
   "metadata": {},
   "outputs": [],
   "source": [
    "plt.scatter(house_df['year_built'],house_df[' price '])\n"
   ]
  },
  {
   "cell_type": "code",
   "execution_count": null,
   "id": "339c83d9",
   "metadata": {},
   "outputs": [],
   "source": [
    "plt.scatter(house_df['zip_code'],house_df[' price '])\n"
   ]
  },
  {
   "cell_type": "code",
   "execution_count": null,
   "id": "c2d64f1f",
   "metadata": {},
   "outputs": [],
   "source": [
    "plt.scatter(house_df['zip_code'],house_df[' price '])\n"
   ]
  },
  {
   "cell_type": "code",
   "execution_count": null,
   "id": "2423f4d9",
   "metadata": {},
   "outputs": [],
   "source": [
    "plt.scatter(house_df['latitude'],house_df[' price '])\n"
   ]
  },
  {
   "cell_type": "code",
   "execution_count": null,
   "id": "c78846c5",
   "metadata": {},
   "outputs": [],
   "source": [
    "plt.scatter(house_df['longitude'],house_df[' price '])\n"
   ]
  },
  {
   "cell_type": "code",
   "execution_count": null,
   "id": "e76bf767",
   "metadata": {},
   "outputs": [],
   "source": [
    "plt.scatter(house_df['monthly_price_change'],house_df[' price '])\n"
   ]
  },
  {
   "cell_type": "code",
   "execution_count": null,
   "id": "f5024393",
   "metadata": {},
   "outputs": [],
   "source": [
    "plt.scatter(house_df['renovated'],house_df[' price '])\n"
   ]
  },
  {
   "cell_type": "code",
   "execution_count": null,
   "id": "8311cc71",
   "metadata": {},
   "outputs": [],
   "source": [
    "plt.scatter(house_df['dates'],house_df[' price '])\n"
   ]
  },
  {
   "cell_type": "code",
   "execution_count": null,
   "id": "172a5fc7",
   "metadata": {},
   "outputs": [],
   "source": [
    "sns.pairplot(house_df)\n"
   ]
  },
  {
   "cell_type": "code",
   "execution_count": null,
   "id": "ca3958a2",
   "metadata": {},
   "outputs": [],
   "source": [
    "sns.displot(house_df[' price '])\n"
   ]
  },
  {
   "cell_type": "code",
   "execution_count": null,
   "id": "afa13e6c",
   "metadata": {},
   "outputs": [],
   "source": [
    "obj = (house_df.dtypes == 'object')\n",
    "object_cols = list(obj[obj].index)\n",
    "print(\"Categorical variables:\",len(object_cols))\n",
    " \n",
    "int_ = (house_df.dtypes == 'int')\n",
    "num_cols = list(int_[int_].index)\n",
    "print(\"Integer variables:\",len(num_cols))\n",
    " \n",
    "fl = (house_df.dtypes == 'float')\n",
    "fl_cols = list(fl[fl].index)\n",
    "print(\"Float variables:\",len(fl_cols))"
   ]
  },
  {
   "cell_type": "code",
   "execution_count": null,
   "id": "26bae853",
   "metadata": {},
   "outputs": [],
   "source": [
    "house_df.isnull().sum()\n"
   ]
  },
  {
   "cell_type": "code",
   "execution_count": null,
   "id": "f86aba0a",
   "metadata": {},
   "outputs": [],
   "source": [
    "\n",
    "from sklearn.metrics import mean_absolute_error\n",
    "from sklearn.model_selection import train_test_split\n",
    " \n",
    "X = house_df.drop([' price '], axis=1)\n",
    "Y = house_df[' price ']\n",
    " \n",
    "# Split the training set into \n",
    "# training and validation set\n",
    "X_train, X_test, Y_train, Y_test = train_test_split(\n",
    "    X, Y, train_size=0.8, test_size=0.2, random_state=0)\n"
   ]
  },
  {
   "cell_type": "code",
   "execution_count": null,
   "id": "929e1326",
   "metadata": {},
   "outputs": [],
   "source": [
    "print(\"xtrain shape : \", X_train.shape)\n",
    "print(\"xtest shape  : \", X_test.shape)\n",
    "print(\"ytrain shape : \", Y_train.shape)\n",
    "print(\"ytest shape  : \", Y_test.shape)"
   ]
  },
  {
   "cell_type": "code",
   "execution_count": null,
   "id": "e0ffb938",
   "metadata": {},
   "outputs": [],
   "source": [
    "# Fitting Multi Linear regression model to training model\n",
    "from sklearn.linear_model import LinearRegression\n",
    "regressor = LinearRegression()\n",
    "regressor.fit(X_train, Y_train)\n",
    "\n",
    "# predicting the test set results\n",
    "y_pred = regressor.predict(X_test)\n"
   ]
  },
  {
   "cell_type": "code",
   "execution_count": null,
   "id": "8a19a5bc",
   "metadata": {},
   "outputs": [],
   "source": [
    "plt.scatter(Y_test,y_pred)\n"
   ]
  },
  {
   "cell_type": "code",
   "execution_count": null,
   "id": "bba3e210",
   "metadata": {},
   "outputs": [],
   "source": [
    "from sklearn import metrics\n",
    "import numpy as np\n",
    "print('MAE:', metrics.mean_absolute_error(Y_test, y_pred))\n",
    "print('MSE:', metrics.mean_squared_error(Y_test, y_pred))\n",
    "print('RMSE:', np.sqrt(metrics.mean_squared_error(Y_test, y_pred)))\n"
   ]
  },
  {
   "cell_type": "code",
   "execution_count": null,
   "id": "5b2ad06c",
   "metadata": {},
   "outputs": [],
   "source": [
    "results = pd.DataFrame({'Actual': Y_test, 'Predicted': y_pred})\n",
    "print(results)\n"
   ]
  },
  {
   "cell_type": "code",
   "execution_count": null,
   "id": "8e5e3f02",
   "metadata": {},
   "outputs": [],
   "source": []
  }
 ],
 "metadata": {
  "kernelspec": {
   "display_name": "Python 3 (ipykernel)",
   "language": "python",
   "name": "python3"
  },
  "language_info": {
   "codemirror_mode": {
    "name": "ipython",
    "version": 3
   },
   "file_extension": ".py",
   "mimetype": "text/x-python",
   "name": "python",
   "nbconvert_exporter": "python",
   "pygments_lexer": "ipython3",
   "version": "3.11.7"
  }
 },
 "nbformat": 4,
 "nbformat_minor": 5
}
